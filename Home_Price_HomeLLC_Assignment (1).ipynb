{
 "cells": [
  {
   "cell_type": "markdown",
   "id": "84680b9d-cfa9-41f1-a7be-4924099fcfc4",
   "metadata": {},
   "source": [
    "# Study of key factors that influence US home prices nationally."
   ]
  },
  {
   "cell_type": "markdown",
   "id": "8bc2f24b-a79c-457f-9aef-ba2a67665bbb",
   "metadata": {},
   "source": [
    "### Preparation"
   ]
  },
  {
   "cell_type": "markdown",
   "id": "69cd2ace-137a-4421-9915-dd7ae76ff8cb",
   "metadata": {},
   "source": [
    "**Assignment**: Find publicly available data for key factors that influence US home prices nationally. Then, build a data science model that explains how these factors impacted home prices over the last 20 years. Use the S&P Case-Schiller Home Price Index as a proxy for home prices: fred.stlouisfed.org/series/CSUSHPISA.\n",
    "\n",
    "**Let's Start Preparation**\n",
    "1. **Data Collection**\n",
    "The following variables are chosen for the study-\n",
    "  # Data download from: https://fred.stlouisfed.org/\n",
    "- Unemployment Rate\n",
    "- Median Household Income\n",
    "- Interest Rates\n",
    "- Number of new houses supplied\n",
    "- Housing subsidies\n",
    "  # Data Download from : https://fred.stlouisfed.org/\n",
    "- Percentage of population above 65\n",
    "\n"
   ]
  },
  {
   "cell_type": "markdown",
   "id": "a6899495-a255-4e5e-8cd9-a55f224cf91b",
   "metadata": {},
   "source": [
    "### Data Processing"
   ]
  },
  {
   "cell_type": "markdown",
   "id": "01d57eab-52a4-4358-a8d4-70ae96b1d667",
   "metadata": {},
   "source": [
    "***Reading CASE-SHILLER Index into a dataframe***"
   ]
  },
  {
   "cell_type": "code",
   "execution_count": 1,
   "id": "c2ddb881-8bd4-4430-b01a-12d34b909252",
   "metadata": {},
   "outputs": [],
   "source": [
    "import numpy as np\n",
    "import pandas as pd"
   ]
  },
  {
   "cell_type": "code",
   "execution_count": 62,
   "id": "f2caa2c5-4869-4c3d-85ab-eb2e611c59cc",
   "metadata": {},
   "outputs": [],
   "source": [
    "#Target Data\n",
    "df_CSUSHPISA = pd.read_csv(\"C:\\\\Users\\\\amitc\\\\Downloads\\\\New folder\\\\data files\\\\CSUSHPISA.csv\", encoding='utf-8')"
   ]
  },
  {
   "cell_type": "code",
   "execution_count": 63,
   "id": "7a4da77b-c55a-4117-8d66-5b76116299b0",
   "metadata": {},
   "outputs": [
    {
     "name": "stderr",
     "output_type": "stream",
     "text": [
      "C:\\Users\\amitc\\AppData\\Local\\Temp\\ipykernel_15368\\1663538186.py:2: UserWarning: Could not infer format, so each element will be parsed individually, falling back to `dateutil`. To ensure parsing is consistent and as-expected, please specify a format.\n",
      "  df_CSUSHPISA[\"DATE\"] = pd.to_datetime(df_CSUSHPISA[\"DATE\"])\n"
     ]
    }
   ],
   "source": [
    "#Changing dtype of date column\n",
    "df_CSUSHPISA[\"DATE\"] = pd.to_datetime(df_CSUSHPISA[\"DATE\"])\n",
    "\n",
    "#Selecting data from JAN 2003\n",
    "mask = df_CSUSHPISA[\"DATE\"] >= \"2003-01-01\"\n",
    "df_CSUSHPISA = df_CSUSHPISA[mask]"
   ]
  },
  {
   "cell_type": "code",
   "execution_count": 64,
   "id": "98960361-0366-4702-9331-625e8b21cd2b",
   "metadata": {},
   "outputs": [],
   "source": [
    "#Resetting Index\n",
    "df_CSUSHPISA.reset_index(inplace = True)\n",
    "df_CSUSHPISA.drop(columns = [\"index\"], inplace = True)"
   ]
  },
  {
   "cell_type": "code",
   "execution_count": 89,
   "id": "fd268f21-e776-4fcb-aad2-913d2da4e2b7",
   "metadata": {},
   "outputs": [
    {
     "name": "stdout",
     "output_type": "stream",
     "text": [
      "(249, 2)\n"
     ]
    },
    {
     "data": {
      "text/html": [
       "<div>\n",
       "<style scoped>\n",
       "    .dataframe tbody tr th:only-of-type {\n",
       "        vertical-align: middle;\n",
       "    }\n",
       "\n",
       "    .dataframe tbody tr th {\n",
       "        vertical-align: top;\n",
       "    }\n",
       "\n",
       "    .dataframe thead th {\n",
       "        text-align: right;\n",
       "    }\n",
       "</style>\n",
       "<table border=\"1\" class=\"dataframe\">\n",
       "  <thead>\n",
       "    <tr style=\"text-align: right;\">\n",
       "      <th></th>\n",
       "      <th>DATE</th>\n",
       "      <th>CSUSHPISA</th>\n",
       "    </tr>\n",
       "  </thead>\n",
       "  <tbody>\n",
       "    <tr>\n",
       "      <th>244</th>\n",
       "      <td>2023-01-05</td>\n",
       "      <td>302.566</td>\n",
       "    </tr>\n",
       "    <tr>\n",
       "      <th>245</th>\n",
       "      <td>2023-01-06</td>\n",
       "      <td>304.593</td>\n",
       "    </tr>\n",
       "    <tr>\n",
       "      <th>246</th>\n",
       "      <td>2023-01-07</td>\n",
       "      <td>306.767</td>\n",
       "    </tr>\n",
       "    <tr>\n",
       "      <th>247</th>\n",
       "      <td>2023-01-08</td>\n",
       "      <td>309.155</td>\n",
       "    </tr>\n",
       "    <tr>\n",
       "      <th>248</th>\n",
       "      <td>2023-01-09</td>\n",
       "      <td>311.175</td>\n",
       "    </tr>\n",
       "  </tbody>\n",
       "</table>\n",
       "</div>"
      ],
      "text/plain": [
       "          DATE  CSUSHPISA\n",
       "244 2023-01-05    302.566\n",
       "245 2023-01-06    304.593\n",
       "246 2023-01-07    306.767\n",
       "247 2023-01-08    309.155\n",
       "248 2023-01-09    311.175"
      ]
     },
     "execution_count": 89,
     "metadata": {},
     "output_type": "execute_result"
    }
   ],
   "source": [
    "print(df_CSUSHPISA.shape)\n",
    "df_CSUSHPISA.tail()"
   ]
  },
  {
   "cell_type": "markdown",
   "id": "ee37ec18-aa35-4751-8772-8f4404578397",
   "metadata": {},
   "source": [
    "### Unemployment Rate"
   ]
  },
  {
   "cell_type": "code",
   "execution_count": 68,
   "id": "2868c320-d230-49aa-9211-eb80dbded902",
   "metadata": {},
   "outputs": [],
   "source": [
    "# Reading Unemployment Rate Data into a dataframe\n",
    "df_unempR = pd.read_csv(\"C:\\\\Users\\\\amitc\\\\Downloads\\\\New folder\\\\data files\\\\UNRATE.csv\", encoding='utf-8')\n"
   ]
  },
  {
   "cell_type": "code",
   "execution_count": 88,
   "id": "f61fd556-3c44-406a-a42d-f3537b0a5fa1",
   "metadata": {},
   "outputs": [
    {
     "name": "stdout",
     "output_type": "stream",
     "text": [
      "(909, 2)\n"
     ]
    },
    {
     "data": {
      "text/html": [
       "<div>\n",
       "<style scoped>\n",
       "    .dataframe tbody tr th:only-of-type {\n",
       "        vertical-align: middle;\n",
       "    }\n",
       "\n",
       "    .dataframe tbody tr th {\n",
       "        vertical-align: top;\n",
       "    }\n",
       "\n",
       "    .dataframe thead th {\n",
       "        text-align: right;\n",
       "    }\n",
       "</style>\n",
       "<table border=\"1\" class=\"dataframe\">\n",
       "  <thead>\n",
       "    <tr style=\"text-align: right;\">\n",
       "      <th></th>\n",
       "      <th>DATE</th>\n",
       "      <th>UNRATE</th>\n",
       "    </tr>\n",
       "  </thead>\n",
       "  <tbody>\n",
       "    <tr>\n",
       "      <th>906</th>\n",
       "      <td>2023-07-01</td>\n",
       "      <td>3.5</td>\n",
       "    </tr>\n",
       "    <tr>\n",
       "      <th>907</th>\n",
       "      <td>2023-08-01</td>\n",
       "      <td>3.8</td>\n",
       "    </tr>\n",
       "    <tr>\n",
       "      <th>908</th>\n",
       "      <td>2023-09-01</td>\n",
       "      <td>3.8</td>\n",
       "    </tr>\n",
       "    <tr>\n",
       "      <th>909</th>\n",
       "      <td>2023-10-01</td>\n",
       "      <td>3.9</td>\n",
       "    </tr>\n",
       "    <tr>\n",
       "      <th>910</th>\n",
       "      <td>2023-11-01</td>\n",
       "      <td>3.7</td>\n",
       "    </tr>\n",
       "  </tbody>\n",
       "</table>\n",
       "</div>"
      ],
      "text/plain": [
       "           DATE  UNRATE\n",
       "906  2023-07-01     3.5\n",
       "907  2023-08-01     3.8\n",
       "908  2023-09-01     3.8\n",
       "909  2023-10-01     3.9\n",
       "910  2023-11-01     3.7"
      ]
     },
     "execution_count": 88,
     "metadata": {},
     "output_type": "execute_result"
    }
   ],
   "source": [
    "print(df_unempR.shape)\n",
    "df_unempR.tail()"
   ]
  },
  {
   "cell_type": "markdown",
   "id": "58099e47-298b-46ed-81de-c3ac00a1bee0",
   "metadata": {},
   "source": [
    "### Interest Rate Data"
   ]
  },
  {
   "cell_type": "code",
   "execution_count": 87,
   "id": "3360fe86-4b70-4294-a2ce-31d64cf2af8b",
   "metadata": {},
   "outputs": [
    {
     "name": "stdout",
     "output_type": "stream",
     "text": [
      "(833, 2)\n"
     ]
    },
    {
     "data": {
      "text/html": [
       "<div>\n",
       "<style scoped>\n",
       "    .dataframe tbody tr th:only-of-type {\n",
       "        vertical-align: middle;\n",
       "    }\n",
       "\n",
       "    .dataframe tbody tr th {\n",
       "        vertical-align: top;\n",
       "    }\n",
       "\n",
       "    .dataframe thead th {\n",
       "        text-align: right;\n",
       "    }\n",
       "</style>\n",
       "<table border=\"1\" class=\"dataframe\">\n",
       "  <thead>\n",
       "    <tr style=\"text-align: right;\">\n",
       "      <th></th>\n",
       "      <th>DATE</th>\n",
       "      <th>FEDFUNDS</th>\n",
       "    </tr>\n",
       "  </thead>\n",
       "  <tbody>\n",
       "    <tr>\n",
       "      <th>828</th>\n",
       "      <td>2023-07-01</td>\n",
       "      <td>5.12</td>\n",
       "    </tr>\n",
       "    <tr>\n",
       "      <th>829</th>\n",
       "      <td>2023-08-01</td>\n",
       "      <td>5.33</td>\n",
       "    </tr>\n",
       "    <tr>\n",
       "      <th>830</th>\n",
       "      <td>2023-09-01</td>\n",
       "      <td>5.33</td>\n",
       "    </tr>\n",
       "    <tr>\n",
       "      <th>831</th>\n",
       "      <td>2023-10-01</td>\n",
       "      <td>5.33</td>\n",
       "    </tr>\n",
       "    <tr>\n",
       "      <th>832</th>\n",
       "      <td>2023-11-01</td>\n",
       "      <td>5.33</td>\n",
       "    </tr>\n",
       "  </tbody>\n",
       "</table>\n",
       "</div>"
      ],
      "text/plain": [
       "           DATE  FEDFUNDS\n",
       "828  2023-07-01      5.12\n",
       "829  2023-08-01      5.33\n",
       "830  2023-09-01      5.33\n",
       "831  2023-10-01      5.33\n",
       "832  2023-11-01      5.33"
      ]
     },
     "execution_count": 87,
     "metadata": {},
     "output_type": "execute_result"
    }
   ],
   "source": [
    "# Reading intrest rate Data into a dataframe\n",
    "df_Fed_rate = pd.read_csv(\"C:\\\\Users\\\\amitc\\\\Downloads\\\\New folder\\\\data files\\\\FEDFUNDS.csv\", encoding='utf-8')\n",
    "print(df_Fed_rate.shape)\n",
    "df_Fed_rate.tail()"
   ]
  },
  {
   "cell_type": "markdown",
   "id": "3af3bc9b-7f45-42ba-bd2a-a7b9f2c0c02b",
   "metadata": {},
   "source": [
    "### Housing Subsidies"
   ]
  },
  {
   "cell_type": "code",
   "execution_count": 86,
   "id": "9a68038b-475e-4341-b5dc-db9c395da67e",
   "metadata": {},
   "outputs": [
    {
     "name": "stdout",
     "output_type": "stream",
     "text": [
      "(63, 2)\n"
     ]
    },
    {
     "data": {
      "text/html": [
       "<div>\n",
       "<style scoped>\n",
       "    .dataframe tbody tr th:only-of-type {\n",
       "        vertical-align: middle;\n",
       "    }\n",
       "\n",
       "    .dataframe tbody tr th {\n",
       "        vertical-align: top;\n",
       "    }\n",
       "\n",
       "    .dataframe thead th {\n",
       "        text-align: right;\n",
       "    }\n",
       "</style>\n",
       "<table border=\"1\" class=\"dataframe\">\n",
       "  <thead>\n",
       "    <tr style=\"text-align: right;\">\n",
       "      <th></th>\n",
       "      <th>DATE</th>\n",
       "      <th>Subsidy</th>\n",
       "    </tr>\n",
       "  </thead>\n",
       "  <tbody>\n",
       "    <tr>\n",
       "      <th>58</th>\n",
       "      <td>2018-01-01</td>\n",
       "      <td>38.859</td>\n",
       "    </tr>\n",
       "    <tr>\n",
       "      <th>59</th>\n",
       "      <td>2019-01-01</td>\n",
       "      <td>40.185</td>\n",
       "    </tr>\n",
       "    <tr>\n",
       "      <th>60</th>\n",
       "      <td>2020-01-01</td>\n",
       "      <td>44.147</td>\n",
       "    </tr>\n",
       "    <tr>\n",
       "      <th>61</th>\n",
       "      <td>2021-01-01</td>\n",
       "      <td>45.299</td>\n",
       "    </tr>\n",
       "    <tr>\n",
       "      <th>62</th>\n",
       "      <td>2022-01-01</td>\n",
       "      <td>48.021</td>\n",
       "    </tr>\n",
       "  </tbody>\n",
       "</table>\n",
       "</div>"
      ],
      "text/plain": [
       "          DATE  Subsidy\n",
       "58  2018-01-01   38.859\n",
       "59  2019-01-01   40.185\n",
       "60  2020-01-01   44.147\n",
       "61  2021-01-01   45.299\n",
       "62  2022-01-01   48.021"
      ]
     },
     "execution_count": 86,
     "metadata": {},
     "output_type": "execute_result"
    }
   ],
   "source": [
    "# Reading housing subsidies Data into a dataframe\n",
    "\n",
    "df_subsidy = pd.read_csv(\"C:\\\\Users\\\\amitc\\\\Downloads\\\\New folder\\\\data files\\\\HOUSSUB.csv\", names = [\"DATE\", \"Subsidy\"], skiprows = 1)\n",
    "print(df_subsidy.shape)\n",
    "df_subsidy.tail()"
   ]
  },
  {
   "cell_type": "markdown",
   "id": "f00de3dd-beb4-4e67-a663-798130de0e87",
   "metadata": {},
   "source": [
    "### Median Household Income"
   ]
  },
  {
   "cell_type": "code",
   "execution_count": 85,
   "id": "f661c165-b27f-4339-9db9-d850390320e3",
   "metadata": {},
   "outputs": [
    {
     "name": "stdout",
     "output_type": "stream",
     "text": [
      "(922, 2)\n"
     ]
    },
    {
     "data": {
      "text/html": [
       "<div>\n",
       "<style scoped>\n",
       "    .dataframe tbody tr th:only-of-type {\n",
       "        vertical-align: middle;\n",
       "    }\n",
       "\n",
       "    .dataframe tbody tr th {\n",
       "        vertical-align: top;\n",
       "    }\n",
       "\n",
       "    .dataframe thead th {\n",
       "        text-align: right;\n",
       "    }\n",
       "</style>\n",
       "<table border=\"1\" class=\"dataframe\">\n",
       "  <thead>\n",
       "    <tr style=\"text-align: right;\">\n",
       "      <th></th>\n",
       "      <th>DATE</th>\n",
       "      <th>Income</th>\n",
       "    </tr>\n",
       "  </thead>\n",
       "  <tbody>\n",
       "    <tr>\n",
       "      <th>917</th>\n",
       "      <td>2023-06-01</td>\n",
       "      <td>337.336</td>\n",
       "    </tr>\n",
       "    <tr>\n",
       "      <th>918</th>\n",
       "      <td>2023-07-01</td>\n",
       "      <td>334.576</td>\n",
       "    </tr>\n",
       "    <tr>\n",
       "      <th>919</th>\n",
       "      <td>2023-08-01</td>\n",
       "      <td>333.980</td>\n",
       "    </tr>\n",
       "    <tr>\n",
       "      <th>920</th>\n",
       "      <td>2023-09-01</td>\n",
       "      <td>332.224</td>\n",
       "    </tr>\n",
       "    <tr>\n",
       "      <th>921</th>\n",
       "      <td>2023-10-01</td>\n",
       "      <td>329.690</td>\n",
       "    </tr>\n",
       "  </tbody>\n",
       "</table>\n",
       "</div>"
      ],
      "text/plain": [
       "           DATE   Income\n",
       "917  2023-06-01  337.336\n",
       "918  2023-07-01  334.576\n",
       "919  2023-08-01  333.980\n",
       "920  2023-09-01  332.224\n",
       "921  2023-10-01  329.690"
      ]
     },
     "execution_count": 85,
     "metadata": {},
     "output_type": "execute_result"
    }
   ],
   "source": [
    "# Reading Median Household Income Data into a dataframe\n",
    "\n",
    "df_income = pd.read_csv(\"C:\\\\Users\\\\amitc\\\\Downloads\\\\New folder\\\\data files\\\\houseincome.csv\", names = [\"DATE\", \"Income\"], skiprows = 1)\n",
    "print(df_income.shape)\n",
    "df_income.tail()"
   ]
  },
  {
   "cell_type": "markdown",
   "id": "ce5b6f73-03fe-4b67-8c82-6aa587c337a8",
   "metadata": {},
   "source": [
    "### Number of new houses supplied"
   ]
  },
  {
   "cell_type": "code",
   "execution_count": 90,
   "id": "8168091b-171f-47a7-aa36-c5a2eca115f0",
   "metadata": {},
   "outputs": [
    {
     "name": "stdout",
     "output_type": "stream",
     "text": [
      "(670, 2)\n"
     ]
    },
    {
     "data": {
      "text/html": [
       "<div>\n",
       "<style scoped>\n",
       "    .dataframe tbody tr th:only-of-type {\n",
       "        vertical-align: middle;\n",
       "    }\n",
       "\n",
       "    .dataframe tbody tr th {\n",
       "        vertical-align: top;\n",
       "    }\n",
       "\n",
       "    .dataframe thead th {\n",
       "        text-align: right;\n",
       "    }\n",
       "</style>\n",
       "<table border=\"1\" class=\"dataframe\">\n",
       "  <thead>\n",
       "    <tr style=\"text-align: right;\">\n",
       "      <th></th>\n",
       "      <th>DATE</th>\n",
       "      <th>Houses</th>\n",
       "    </tr>\n",
       "  </thead>\n",
       "  <tbody>\n",
       "    <tr>\n",
       "      <th>665</th>\n",
       "      <td>2023-06-01</td>\n",
       "      <td>1492.0</td>\n",
       "    </tr>\n",
       "    <tr>\n",
       "      <th>666</th>\n",
       "      <td>2023-07-01</td>\n",
       "      <td>1334.0</td>\n",
       "    </tr>\n",
       "    <tr>\n",
       "      <th>667</th>\n",
       "      <td>2023-08-01</td>\n",
       "      <td>1370.0</td>\n",
       "    </tr>\n",
       "    <tr>\n",
       "      <th>668</th>\n",
       "      <td>2023-09-01</td>\n",
       "      <td>1478.0</td>\n",
       "    </tr>\n",
       "    <tr>\n",
       "      <th>669</th>\n",
       "      <td>2023-10-01</td>\n",
       "      <td>1410.0</td>\n",
       "    </tr>\n",
       "  </tbody>\n",
       "</table>\n",
       "</div>"
      ],
      "text/plain": [
       "           DATE  Houses\n",
       "665  2023-06-01  1492.0\n",
       "666  2023-07-01  1334.0\n",
       "667  2023-08-01  1370.0\n",
       "668  2023-09-01  1478.0\n",
       "669  2023-10-01  1410.0"
      ]
     },
     "execution_count": 90,
     "metadata": {},
     "output_type": "execute_result"
    }
   ],
   "source": [
    "# Monthly new house supply data into dataframe\n",
    "df_house = pd.read_csv(\"C:\\\\Users\\\\amitc\\\\Downloads\\\\New folder\\\\data files\\\\COMPUTSA.csv\", names = [\"DATE\", \"Houses\"], skiprows = 1)\n",
    "print(df_house.shape)\n",
    "df_house.tail()"
   ]
  },
  {
   "cell_type": "code",
   "execution_count": 91,
   "id": "23773165-af8d-4e2b-95ed-d394623f8a42",
   "metadata": {},
   "outputs": [
    {
     "name": "stdout",
     "output_type": "stream",
     "text": [
      "(307, 2)\n"
     ]
    },
    {
     "data": {
      "text/html": [
       "<div>\n",
       "<style scoped>\n",
       "    .dataframe tbody tr th:only-of-type {\n",
       "        vertical-align: middle;\n",
       "    }\n",
       "\n",
       "    .dataframe tbody tr th {\n",
       "        vertical-align: top;\n",
       "    }\n",
       "\n",
       "    .dataframe thead th {\n",
       "        text-align: right;\n",
       "    }\n",
       "</style>\n",
       "<table border=\"1\" class=\"dataframe\">\n",
       "  <thead>\n",
       "    <tr style=\"text-align: right;\">\n",
       "      <th></th>\n",
       "      <th>DATE</th>\n",
       "      <th>Per_Capita_GDP</th>\n",
       "    </tr>\n",
       "  </thead>\n",
       "  <tbody>\n",
       "    <tr>\n",
       "      <th>302</th>\n",
       "      <td>01-07-22</td>\n",
       "      <td>65462</td>\n",
       "    </tr>\n",
       "    <tr>\n",
       "      <th>303</th>\n",
       "      <td>01-10-22</td>\n",
       "      <td>65783</td>\n",
       "    </tr>\n",
       "    <tr>\n",
       "      <th>304</th>\n",
       "      <td>01-01-23</td>\n",
       "      <td>66078</td>\n",
       "    </tr>\n",
       "    <tr>\n",
       "      <th>305</th>\n",
       "      <td>01-04-23</td>\n",
       "      <td>66341</td>\n",
       "    </tr>\n",
       "    <tr>\n",
       "      <th>306</th>\n",
       "      <td>01-07-23</td>\n",
       "      <td>67083</td>\n",
       "    </tr>\n",
       "  </tbody>\n",
       "</table>\n",
       "</div>"
      ],
      "text/plain": [
       "         DATE  Per_Capita_GDP\n",
       "302  01-07-22           65462\n",
       "303  01-10-22           65783\n",
       "304  01-01-23           66078\n",
       "305  01-04-23           66341\n",
       "306  01-07-23           67083"
      ]
     },
     "execution_count": 91,
     "metadata": {},
     "output_type": "execute_result"
    }
   ],
   "source": [
    "# Reading Per Capita GDP Data into a dataframe\n",
    "df_pcgdp = pd.read_csv(\"C:\\\\Users\\\\amitc\\\\Downloads\\\\New folder\\\\data files\\\\GDP.csv\", names = [\"DATE\", \"Per_Capita_GDP\"], skiprows = 1)\n",
    "print(df_pcgdp.shape)\n",
    "df_pcgdp.tail()"
   ]
  },
  {
   "cell_type": "markdown",
   "id": "c92c8a01-5a2d-45e6-afc3-035f0bad8175",
   "metadata": {},
   "source": [
    "***Merging data frame***"
   ]
  },
  {
   "cell_type": "code",
   "execution_count": 101,
   "id": "5a9719d4-548f-4ab6-81e9-861b7e562014",
   "metadata": {},
   "outputs": [
    {
     "data": {
      "text/html": [
       "<div>\n",
       "<style scoped>\n",
       "    .dataframe tbody tr th:only-of-type {\n",
       "        vertical-align: middle;\n",
       "    }\n",
       "\n",
       "    .dataframe tbody tr th {\n",
       "        vertical-align: top;\n",
       "    }\n",
       "\n",
       "    .dataframe thead th {\n",
       "        text-align: right;\n",
       "    }\n",
       "</style>\n",
       "<table border=\"1\" class=\"dataframe\">\n",
       "  <thead>\n",
       "    <tr style=\"text-align: right;\">\n",
       "      <th></th>\n",
       "      <th>DATE</th>\n",
       "      <th>CSUSHPISA</th>\n",
       "      <th>Per_Capita_GDP</th>\n",
       "    </tr>\n",
       "  </thead>\n",
       "  <tbody>\n",
       "    <tr>\n",
       "      <th>0</th>\n",
       "      <td>2003-01-01</td>\n",
       "      <td>128.461</td>\n",
       "      <td>50462.0</td>\n",
       "    </tr>\n",
       "    <tr>\n",
       "      <th>1</th>\n",
       "      <td>2003-01-02</td>\n",
       "      <td>129.355</td>\n",
       "      <td>NaN</td>\n",
       "    </tr>\n",
       "    <tr>\n",
       "      <th>2</th>\n",
       "      <td>2003-01-03</td>\n",
       "      <td>130.148</td>\n",
       "      <td>NaN</td>\n",
       "    </tr>\n",
       "    <tr>\n",
       "      <th>3</th>\n",
       "      <td>2003-01-04</td>\n",
       "      <td>130.884</td>\n",
       "      <td>50796.0</td>\n",
       "    </tr>\n",
       "    <tr>\n",
       "      <th>4</th>\n",
       "      <td>2003-01-05</td>\n",
       "      <td>131.735</td>\n",
       "      <td>NaN</td>\n",
       "    </tr>\n",
       "  </tbody>\n",
       "</table>\n",
       "</div>"
      ],
      "text/plain": [
       "        DATE  CSUSHPISA  Per_Capita_GDP\n",
       "0 2003-01-01    128.461         50462.0\n",
       "1 2003-01-02    129.355             NaN\n",
       "2 2003-01-03    130.148             NaN\n",
       "3 2003-01-04    130.884         50796.0\n",
       "4 2003-01-05    131.735             NaN"
      ]
     },
     "execution_count": 101,
     "metadata": {},
     "output_type": "execute_result"
    }
   ],
   "source": [
    "# Merging Per Capita GDP (Quarterly data)\n",
    "df_pcgdp[\"DATE\"] = pd.to_datetime(df_pcgdp[\"DATE\"])\n",
    "df_CSUSHPISA = pd.merge(df_CSUSHPISA,df_pcgdp, how = \"left\")\n",
    "df_CSUSHPISA.head()"
   ]
  },
  {
   "cell_type": "code",
   "execution_count": 107,
   "id": "60c20a50-bbd9-4c06-a935-755ed51b61e9",
   "metadata": {},
   "outputs": [
    {
     "name": "stdout",
     "output_type": "stream",
     "text": [
      "(1151, 7)\n"
     ]
    },
    {
     "data": {
      "text/html": [
       "<div>\n",
       "<style scoped>\n",
       "    .dataframe tbody tr th:only-of-type {\n",
       "        vertical-align: middle;\n",
       "    }\n",
       "\n",
       "    .dataframe tbody tr th {\n",
       "        vertical-align: top;\n",
       "    }\n",
       "\n",
       "    .dataframe thead th {\n",
       "        text-align: right;\n",
       "    }\n",
       "</style>\n",
       "<table border=\"1\" class=\"dataframe\">\n",
       "  <thead>\n",
       "    <tr style=\"text-align: right;\">\n",
       "      <th></th>\n",
       "      <th>CSUSHPISA</th>\n",
       "      <th>Per_Capita_GDP</th>\n",
       "      <th>Houses</th>\n",
       "      <th>UNRATE</th>\n",
       "      <th>FEDFUNDS</th>\n",
       "      <th>Subsidy</th>\n",
       "      <th>Income</th>\n",
       "    </tr>\n",
       "    <tr>\n",
       "      <th>DATE</th>\n",
       "      <th></th>\n",
       "      <th></th>\n",
       "      <th></th>\n",
       "      <th></th>\n",
       "      <th></th>\n",
       "      <th></th>\n",
       "      <th></th>\n",
       "    </tr>\n",
       "  </thead>\n",
       "  <tbody>\n",
       "    <tr>\n",
       "      <th>2023-07-01</th>\n",
       "      <td>NaN</td>\n",
       "      <td>NaN</td>\n",
       "      <td>1334.0</td>\n",
       "      <td>3.5</td>\n",
       "      <td>5.12</td>\n",
       "      <td>NaN</td>\n",
       "      <td>334.576</td>\n",
       "    </tr>\n",
       "    <tr>\n",
       "      <th>2023-08-01</th>\n",
       "      <td>NaN</td>\n",
       "      <td>NaN</td>\n",
       "      <td>1370.0</td>\n",
       "      <td>3.8</td>\n",
       "      <td>5.33</td>\n",
       "      <td>NaN</td>\n",
       "      <td>333.980</td>\n",
       "    </tr>\n",
       "    <tr>\n",
       "      <th>2023-09-01</th>\n",
       "      <td>NaN</td>\n",
       "      <td>NaN</td>\n",
       "      <td>1478.0</td>\n",
       "      <td>3.8</td>\n",
       "      <td>5.33</td>\n",
       "      <td>NaN</td>\n",
       "      <td>332.224</td>\n",
       "    </tr>\n",
       "    <tr>\n",
       "      <th>2023-10-01</th>\n",
       "      <td>NaN</td>\n",
       "      <td>NaN</td>\n",
       "      <td>1410.0</td>\n",
       "      <td>3.9</td>\n",
       "      <td>5.33</td>\n",
       "      <td>NaN</td>\n",
       "      <td>329.690</td>\n",
       "    </tr>\n",
       "    <tr>\n",
       "      <th>2023-11-01</th>\n",
       "      <td>NaN</td>\n",
       "      <td>NaN</td>\n",
       "      <td>NaN</td>\n",
       "      <td>3.7</td>\n",
       "      <td>5.33</td>\n",
       "      <td>NaN</td>\n",
       "      <td>NaN</td>\n",
       "    </tr>\n",
       "  </tbody>\n",
       "</table>\n",
       "</div>"
      ],
      "text/plain": [
       "            CSUSHPISA  Per_Capita_GDP  Houses  UNRATE  FEDFUNDS  Subsidy  \\\n",
       "DATE                                                                       \n",
       "2023-07-01        NaN             NaN  1334.0     3.5      5.12      NaN   \n",
       "2023-08-01        NaN             NaN  1370.0     3.8      5.33      NaN   \n",
       "2023-09-01        NaN             NaN  1478.0     3.8      5.33      NaN   \n",
       "2023-10-01        NaN             NaN  1410.0     3.9      5.33      NaN   \n",
       "2023-11-01        NaN             NaN     NaN     3.7      5.33      NaN   \n",
       "\n",
       "             Income  \n",
       "DATE                 \n",
       "2023-07-01  334.576  \n",
       "2023-08-01  333.980  \n",
       "2023-09-01  332.224  \n",
       "2023-10-01  329.690  \n",
       "2023-11-01      NaN  "
      ]
     },
     "execution_count": 107,
     "metadata": {},
     "output_type": "execute_result"
    }
   ],
   "source": [
    "# Concating dataframes having monthly data to create one dataframe\n",
    "df = pd.DataFrame()\n",
    "df_bymonth = [df_CSUSHPISA, df_house, df_unempR, df_Fed_rate, df_subsidy, df_income]\n",
    "for df1 in df_bymonth:\n",
    "    df1[\"DATE\"] = pd.to_datetime(df1[\"DATE\"])\n",
    "    df1 = df1.set_index(\"DATE\")\n",
    "    df = pd.concat([df,df1], axis = 1)\n",
    "print(df.shape)\n",
    "df.tail()"
   ]
  },
  {
   "cell_type": "code",
   "execution_count": 109,
   "id": "a68be3c5-1ad8-48ac-9572-15bc01c594f1",
   "metadata": {},
   "outputs": [
    {
     "data": {
      "text/plain": [
       "CSUSHPISA          902\n",
       "Per_Capita_GDP    1068\n",
       "Houses             481\n",
       "UNRATE             242\n",
       "FEDFUNDS           318\n",
       "Subsidy           1088\n",
       "Income             229\n",
       "dtype: int64"
      ]
     },
     "execution_count": 109,
     "metadata": {},
     "output_type": "execute_result"
    }
   ],
   "source": [
    "#Check sum of missing values in data frame\n",
    "df.isna().sum()"
   ]
  },
  {
   "cell_type": "code",
   "execution_count": 110,
   "id": "0cf02f2a-d0d8-48bf-9c85-c376cbe621fa",
   "metadata": {},
   "outputs": [],
   "source": [
    "# Filling missing values in the Per_Capita_GDP column using linear interpolation\n",
    "df[\"Per_Capita_GDP\"] = df[\"Per_Capita_GDP\"].interpolate()"
   ]
  },
  {
   "cell_type": "code",
   "execution_count": 111,
   "id": "94070d66-9bac-445d-abf7-b53691f61dbc",
   "metadata": {},
   "outputs": [
    {
     "data": {
      "text/html": [
       "<div>\n",
       "<style scoped>\n",
       "    .dataframe tbody tr th:only-of-type {\n",
       "        vertical-align: middle;\n",
       "    }\n",
       "\n",
       "    .dataframe tbody tr th {\n",
       "        vertical-align: top;\n",
       "    }\n",
       "\n",
       "    .dataframe thead th {\n",
       "        text-align: right;\n",
       "    }\n",
       "</style>\n",
       "<table border=\"1\" class=\"dataframe\">\n",
       "  <thead>\n",
       "    <tr style=\"text-align: right;\">\n",
       "      <th></th>\n",
       "      <th>CSUSHPISA</th>\n",
       "      <th>Per_Capita_GDP</th>\n",
       "      <th>Houses</th>\n",
       "      <th>UNRATE</th>\n",
       "      <th>FEDFUNDS</th>\n",
       "      <th>Subsidy</th>\n",
       "      <th>Income</th>\n",
       "    </tr>\n",
       "    <tr>\n",
       "      <th>DATE</th>\n",
       "      <th></th>\n",
       "      <th></th>\n",
       "      <th></th>\n",
       "      <th></th>\n",
       "      <th></th>\n",
       "      <th></th>\n",
       "      <th></th>\n",
       "    </tr>\n",
       "  </thead>\n",
       "  <tbody>\n",
       "    <tr>\n",
       "      <th>1947-01-01</th>\n",
       "      <td>NaN</td>\n",
       "      <td>NaN</td>\n",
       "      <td>NaN</td>\n",
       "      <td>NaN</td>\n",
       "      <td>NaN</td>\n",
       "      <td>NaN</td>\n",
       "      <td>22.2</td>\n",
       "    </tr>\n",
       "    <tr>\n",
       "      <th>1947-02-01</th>\n",
       "      <td>NaN</td>\n",
       "      <td>NaN</td>\n",
       "      <td>NaN</td>\n",
       "      <td>NaN</td>\n",
       "      <td>NaN</td>\n",
       "      <td>NaN</td>\n",
       "      <td>22.5</td>\n",
       "    </tr>\n",
       "    <tr>\n",
       "      <th>1947-03-01</th>\n",
       "      <td>NaN</td>\n",
       "      <td>NaN</td>\n",
       "      <td>NaN</td>\n",
       "      <td>NaN</td>\n",
       "      <td>NaN</td>\n",
       "      <td>NaN</td>\n",
       "      <td>22.9</td>\n",
       "    </tr>\n",
       "    <tr>\n",
       "      <th>1947-04-01</th>\n",
       "      <td>NaN</td>\n",
       "      <td>NaN</td>\n",
       "      <td>NaN</td>\n",
       "      <td>NaN</td>\n",
       "      <td>NaN</td>\n",
       "      <td>NaN</td>\n",
       "      <td>23.2</td>\n",
       "    </tr>\n",
       "    <tr>\n",
       "      <th>1947-05-01</th>\n",
       "      <td>NaN</td>\n",
       "      <td>NaN</td>\n",
       "      <td>NaN</td>\n",
       "      <td>NaN</td>\n",
       "      <td>NaN</td>\n",
       "      <td>NaN</td>\n",
       "      <td>23.3</td>\n",
       "    </tr>\n",
       "  </tbody>\n",
       "</table>\n",
       "</div>"
      ],
      "text/plain": [
       "            CSUSHPISA  Per_Capita_GDP  Houses  UNRATE  FEDFUNDS  Subsidy  \\\n",
       "DATE                                                                       \n",
       "1947-01-01        NaN             NaN     NaN     NaN       NaN      NaN   \n",
       "1947-02-01        NaN             NaN     NaN     NaN       NaN      NaN   \n",
       "1947-03-01        NaN             NaN     NaN     NaN       NaN      NaN   \n",
       "1947-04-01        NaN             NaN     NaN     NaN       NaN      NaN   \n",
       "1947-05-01        NaN             NaN     NaN     NaN       NaN      NaN   \n",
       "\n",
       "            Income  \n",
       "DATE                \n",
       "1947-01-01    22.2  \n",
       "1947-02-01    22.5  \n",
       "1947-03-01    22.9  \n",
       "1947-04-01    23.2  \n",
       "1947-05-01    23.3  "
      ]
     },
     "execution_count": 111,
     "metadata": {},
     "output_type": "execute_result"
    }
   ],
   "source": [
    "df.head()"
   ]
  },
  {
   "cell_type": "markdown",
   "id": "a0260ea6-99d8-4ae9-8850-0b15cccf822c",
   "metadata": {},
   "source": [
    "*** The missing values in the other columns is due to unavailability of fresh data. We have first filled the missing values in the \"Per_Capita_GDP\" column using linear interpolation. now, we will drop the rows having missing values in the other columns. This means that we will use data from 2003 to 2023 ***"
   ]
  },
  {
   "cell_type": "code",
   "execution_count": 112,
   "id": "d3b78264-e15d-4d07-9de0-08ac1794a016",
   "metadata": {},
   "outputs": [],
   "source": [
    "df.dropna(inplace = True)"
   ]
  },
  {
   "cell_type": "code",
   "execution_count": 113,
   "id": "89abe9f3-013f-421f-af90-4e698b63d64b",
   "metadata": {},
   "outputs": [
    {
     "data": {
      "text/plain": [
       "CSUSHPISA         0\n",
       "Per_Capita_GDP    0\n",
       "Houses            0\n",
       "UNRATE            0\n",
       "FEDFUNDS          0\n",
       "Subsidy           0\n",
       "Income            0\n",
       "dtype: int64"
      ]
     },
     "execution_count": 113,
     "metadata": {},
     "output_type": "execute_result"
    }
   ],
   "source": [
    "df.isna().sum()"
   ]
  },
  {
   "cell_type": "code",
   "execution_count": 116,
   "id": "89fc2d0a-2aea-46c5-8cd0-22fb5324ab44",
   "metadata": {},
   "outputs": [
    {
     "data": {
      "text/plain": [
       "(20, 7)"
      ]
     },
     "execution_count": 116,
     "metadata": {},
     "output_type": "execute_result"
    }
   ],
   "source": [
    "df.shape"
   ]
  },
  {
   "cell_type": "code",
   "execution_count": 117,
   "id": "81a734e1-0d68-4163-bc08-0ff14b3c3496",
   "metadata": {},
   "outputs": [
    {
     "data": {
      "text/html": [
       "<div>\n",
       "<style scoped>\n",
       "    .dataframe tbody tr th:only-of-type {\n",
       "        vertical-align: middle;\n",
       "    }\n",
       "\n",
       "    .dataframe tbody tr th {\n",
       "        vertical-align: top;\n",
       "    }\n",
       "\n",
       "    .dataframe thead th {\n",
       "        text-align: right;\n",
       "    }\n",
       "</style>\n",
       "<table border=\"1\" class=\"dataframe\">\n",
       "  <thead>\n",
       "    <tr style=\"text-align: right;\">\n",
       "      <th></th>\n",
       "      <th>CSUSHPISA</th>\n",
       "      <th>Per_Capita_GDP</th>\n",
       "      <th>Houses</th>\n",
       "      <th>UNRATE</th>\n",
       "      <th>FEDFUNDS</th>\n",
       "      <th>Subsidy</th>\n",
       "      <th>Income</th>\n",
       "    </tr>\n",
       "    <tr>\n",
       "      <th>DATE</th>\n",
       "      <th></th>\n",
       "      <th></th>\n",
       "      <th></th>\n",
       "      <th></th>\n",
       "      <th></th>\n",
       "      <th></th>\n",
       "      <th></th>\n",
       "    </tr>\n",
       "  </thead>\n",
       "  <tbody>\n",
       "    <tr>\n",
       "      <th>2003-01-01</th>\n",
       "      <td>128.461</td>\n",
       "      <td>50462.0</td>\n",
       "      <td>1654.0</td>\n",
       "      <td>5.8</td>\n",
       "      <td>1.24</td>\n",
       "      <td>25.930</td>\n",
       "      <td>144.4</td>\n",
       "    </tr>\n",
       "    <tr>\n",
       "      <th>2004-01-01</th>\n",
       "      <td>141.646</td>\n",
       "      <td>52179.0</td>\n",
       "      <td>1709.0</td>\n",
       "      <td>5.7</td>\n",
       "      <td>1.00</td>\n",
       "      <td>27.201</td>\n",
       "      <td>150.0</td>\n",
       "    </tr>\n",
       "    <tr>\n",
       "      <th>2005-01-01</th>\n",
       "      <td>161.288</td>\n",
       "      <td>53719.0</td>\n",
       "      <td>1892.0</td>\n",
       "      <td>5.3</td>\n",
       "      <td>2.28</td>\n",
       "      <td>27.651</td>\n",
       "      <td>168.6</td>\n",
       "    </tr>\n",
       "    <tr>\n",
       "      <th>2006-01-01</th>\n",
       "      <td>182.321</td>\n",
       "      <td>54927.0</td>\n",
       "      <td>2036.0</td>\n",
       "      <td>4.7</td>\n",
       "      <td>4.29</td>\n",
       "      <td>28.604</td>\n",
       "      <td>177.2</td>\n",
       "    </tr>\n",
       "    <tr>\n",
       "      <th>2007-01-01</th>\n",
       "      <td>184.517</td>\n",
       "      <td>55260.0</td>\n",
       "      <td>1822.0</td>\n",
       "      <td>4.6</td>\n",
       "      <td>5.25</td>\n",
       "      <td>29.512</td>\n",
       "      <td>181.1</td>\n",
       "    </tr>\n",
       "  </tbody>\n",
       "</table>\n",
       "</div>"
      ],
      "text/plain": [
       "            CSUSHPISA  Per_Capita_GDP  Houses  UNRATE  FEDFUNDS  Subsidy  \\\n",
       "DATE                                                                       \n",
       "2003-01-01    128.461         50462.0  1654.0     5.8      1.24   25.930   \n",
       "2004-01-01    141.646         52179.0  1709.0     5.7      1.00   27.201   \n",
       "2005-01-01    161.288         53719.0  1892.0     5.3      2.28   27.651   \n",
       "2006-01-01    182.321         54927.0  2036.0     4.7      4.29   28.604   \n",
       "2007-01-01    184.517         55260.0  1822.0     4.6      5.25   29.512   \n",
       "\n",
       "            Income  \n",
       "DATE                \n",
       "2003-01-01   144.4  \n",
       "2004-01-01   150.0  \n",
       "2005-01-01   168.6  \n",
       "2006-01-01   177.2  \n",
       "2007-01-01   181.1  "
      ]
     },
     "execution_count": 117,
     "metadata": {},
     "output_type": "execute_result"
    }
   ],
   "source": [
    "df.head()"
   ]
  },
  {
   "cell_type": "markdown",
   "id": "f58182fb-d3c2-45f6-ad2d-007437ba8a15",
   "metadata": {},
   "source": [
    "*** This is our preprocessed dataset. we will save it as \"final_data.csv\". ***"
   ]
  },
  {
   "cell_type": "code",
   "execution_count": 119,
   "id": "f3d9977c-6600-4d8c-8eb9-48ad4b5733b7",
   "metadata": {},
   "outputs": [],
   "source": [
    "df.to_csv(\"final_data.csv\")"
   ]
  },
  {
   "cell_type": "code",
   "execution_count": 120,
   "id": "fddced91-a64e-4819-9dda-99911abe6b6a",
   "metadata": {},
   "outputs": [
    {
     "data": {
      "text/html": [
       "<div>\n",
       "<style scoped>\n",
       "    .dataframe tbody tr th:only-of-type {\n",
       "        vertical-align: middle;\n",
       "    }\n",
       "\n",
       "    .dataframe tbody tr th {\n",
       "        vertical-align: top;\n",
       "    }\n",
       "\n",
       "    .dataframe thead th {\n",
       "        text-align: right;\n",
       "    }\n",
       "</style>\n",
       "<table border=\"1\" class=\"dataframe\">\n",
       "  <thead>\n",
       "    <tr style=\"text-align: right;\">\n",
       "      <th></th>\n",
       "      <th>CSUSHPISA</th>\n",
       "      <th>Per_Capita_GDP</th>\n",
       "      <th>Houses</th>\n",
       "      <th>UNRATE</th>\n",
       "      <th>FEDFUNDS</th>\n",
       "      <th>Subsidy</th>\n",
       "      <th>Income</th>\n",
       "    </tr>\n",
       "    <tr>\n",
       "      <th>DATE</th>\n",
       "      <th></th>\n",
       "      <th></th>\n",
       "      <th></th>\n",
       "      <th></th>\n",
       "      <th></th>\n",
       "      <th></th>\n",
       "      <th></th>\n",
       "    </tr>\n",
       "  </thead>\n",
       "  <tbody>\n",
       "    <tr>\n",
       "      <th>2003-01-01</th>\n",
       "      <td>128.461</td>\n",
       "      <td>50462.0</td>\n",
       "      <td>1654.0</td>\n",
       "      <td>5.8</td>\n",
       "      <td>1.24</td>\n",
       "      <td>25.930</td>\n",
       "      <td>144.4</td>\n",
       "    </tr>\n",
       "    <tr>\n",
       "      <th>2004-01-01</th>\n",
       "      <td>141.646</td>\n",
       "      <td>52179.0</td>\n",
       "      <td>1709.0</td>\n",
       "      <td>5.7</td>\n",
       "      <td>1.00</td>\n",
       "      <td>27.201</td>\n",
       "      <td>150.0</td>\n",
       "    </tr>\n",
       "    <tr>\n",
       "      <th>2005-01-01</th>\n",
       "      <td>161.288</td>\n",
       "      <td>53719.0</td>\n",
       "      <td>1892.0</td>\n",
       "      <td>5.3</td>\n",
       "      <td>2.28</td>\n",
       "      <td>27.651</td>\n",
       "      <td>168.6</td>\n",
       "    </tr>\n",
       "    <tr>\n",
       "      <th>2006-01-01</th>\n",
       "      <td>182.321</td>\n",
       "      <td>54927.0</td>\n",
       "      <td>2036.0</td>\n",
       "      <td>4.7</td>\n",
       "      <td>4.29</td>\n",
       "      <td>28.604</td>\n",
       "      <td>177.2</td>\n",
       "    </tr>\n",
       "    <tr>\n",
       "      <th>2007-01-01</th>\n",
       "      <td>184.517</td>\n",
       "      <td>55260.0</td>\n",
       "      <td>1822.0</td>\n",
       "      <td>4.6</td>\n",
       "      <td>5.25</td>\n",
       "      <td>29.512</td>\n",
       "      <td>181.1</td>\n",
       "    </tr>\n",
       "  </tbody>\n",
       "</table>\n",
       "</div>"
      ],
      "text/plain": [
       "            CSUSHPISA  Per_Capita_GDP  Houses  UNRATE  FEDFUNDS  Subsidy  \\\n",
       "DATE                                                                       \n",
       "2003-01-01    128.461         50462.0  1654.0     5.8      1.24   25.930   \n",
       "2004-01-01    141.646         52179.0  1709.0     5.7      1.00   27.201   \n",
       "2005-01-01    161.288         53719.0  1892.0     5.3      2.28   27.651   \n",
       "2006-01-01    182.321         54927.0  2036.0     4.7      4.29   28.604   \n",
       "2007-01-01    184.517         55260.0  1822.0     4.6      5.25   29.512   \n",
       "\n",
       "            Income  \n",
       "DATE                \n",
       "2003-01-01   144.4  \n",
       "2004-01-01   150.0  \n",
       "2005-01-01   168.6  \n",
       "2006-01-01   177.2  \n",
       "2007-01-01   181.1  "
      ]
     },
     "execution_count": 120,
     "metadata": {},
     "output_type": "execute_result"
    }
   ],
   "source": [
    "df = pd.read_csv(\"final_data.csv\").set_index(\"DATE\")\n",
    "df.head()"
   ]
  },
  {
   "cell_type": "code",
   "execution_count": 122,
   "id": "f61af658-84ee-4b39-9d50-adbdeb494957",
   "metadata": {},
   "outputs": [],
   "source": [
    "import seaborn as sns\n",
    "import matplotlib.pyplot as plt"
   ]
  },
  {
   "cell_type": "markdown",
   "id": "297cfdad-8a3c-407b-934e-09cbb55a170b",
   "metadata": {},
   "source": [
    "## EDA AND FEATURE ENGINEERING"
   ]
  },
  {
   "cell_type": "code",
   "execution_count": 124,
   "id": "f22d2473-834c-4743-8b41-1a47a6bf98ed",
   "metadata": {},
   "outputs": [
    {
     "data": {
      "text/html": [
       "<div>\n",
       "<style scoped>\n",
       "    .dataframe tbody tr th:only-of-type {\n",
       "        vertical-align: middle;\n",
       "    }\n",
       "\n",
       "    .dataframe tbody tr th {\n",
       "        vertical-align: top;\n",
       "    }\n",
       "\n",
       "    .dataframe thead th {\n",
       "        text-align: right;\n",
       "    }\n",
       "</style>\n",
       "<table border=\"1\" class=\"dataframe\">\n",
       "  <thead>\n",
       "    <tr style=\"text-align: right;\">\n",
       "      <th></th>\n",
       "      <th>CSUSHPISA</th>\n",
       "      <th>Per_Capita_GDP</th>\n",
       "      <th>Houses</th>\n",
       "      <th>UNRATE</th>\n",
       "      <th>FEDFUNDS</th>\n",
       "      <th>Subsidy</th>\n",
       "      <th>Income</th>\n",
       "    </tr>\n",
       "    <tr>\n",
       "      <th>DATE</th>\n",
       "      <th></th>\n",
       "      <th></th>\n",
       "      <th></th>\n",
       "      <th></th>\n",
       "      <th></th>\n",
       "      <th></th>\n",
       "      <th></th>\n",
       "    </tr>\n",
       "  </thead>\n",
       "  <tbody>\n",
       "    <tr>\n",
       "      <th>2003-01-01</th>\n",
       "      <td>128.461</td>\n",
       "      <td>50462.0</td>\n",
       "      <td>1654.0</td>\n",
       "      <td>5.8</td>\n",
       "      <td>1.24</td>\n",
       "      <td>25.930</td>\n",
       "      <td>144.4</td>\n",
       "    </tr>\n",
       "    <tr>\n",
       "      <th>2004-01-01</th>\n",
       "      <td>141.646</td>\n",
       "      <td>52179.0</td>\n",
       "      <td>1709.0</td>\n",
       "      <td>5.7</td>\n",
       "      <td>1.00</td>\n",
       "      <td>27.201</td>\n",
       "      <td>150.0</td>\n",
       "    </tr>\n",
       "    <tr>\n",
       "      <th>2005-01-01</th>\n",
       "      <td>161.288</td>\n",
       "      <td>53719.0</td>\n",
       "      <td>1892.0</td>\n",
       "      <td>5.3</td>\n",
       "      <td>2.28</td>\n",
       "      <td>27.651</td>\n",
       "      <td>168.6</td>\n",
       "    </tr>\n",
       "    <tr>\n",
       "      <th>2006-01-01</th>\n",
       "      <td>182.321</td>\n",
       "      <td>54927.0</td>\n",
       "      <td>2036.0</td>\n",
       "      <td>4.7</td>\n",
       "      <td>4.29</td>\n",
       "      <td>28.604</td>\n",
       "      <td>177.2</td>\n",
       "    </tr>\n",
       "    <tr>\n",
       "      <th>2007-01-01</th>\n",
       "      <td>184.517</td>\n",
       "      <td>55260.0</td>\n",
       "      <td>1822.0</td>\n",
       "      <td>4.6</td>\n",
       "      <td>5.25</td>\n",
       "      <td>29.512</td>\n",
       "      <td>181.1</td>\n",
       "    </tr>\n",
       "  </tbody>\n",
       "</table>\n",
       "</div>"
      ],
      "text/plain": [
       "            CSUSHPISA  Per_Capita_GDP  Houses  UNRATE  FEDFUNDS  Subsidy  \\\n",
       "DATE                                                                       \n",
       "2003-01-01    128.461         50462.0  1654.0     5.8      1.24   25.930   \n",
       "2004-01-01    141.646         52179.0  1709.0     5.7      1.00   27.201   \n",
       "2005-01-01    161.288         53719.0  1892.0     5.3      2.28   27.651   \n",
       "2006-01-01    182.321         54927.0  2036.0     4.7      4.29   28.604   \n",
       "2007-01-01    184.517         55260.0  1822.0     4.6      5.25   29.512   \n",
       "\n",
       "            Income  \n",
       "DATE                \n",
       "2003-01-01   144.4  \n",
       "2004-01-01   150.0  \n",
       "2005-01-01   168.6  \n",
       "2006-01-01   177.2  \n",
       "2007-01-01   181.1  "
      ]
     },
     "execution_count": 124,
     "metadata": {},
     "output_type": "execute_result"
    }
   ],
   "source": [
    "# Reading prepared data into a dataframe.\n",
    "df = pd.read_csv(\"final_data.csv\").set_index(\"DATE\")\n",
    "df.head()"
   ]
  },
  {
   "cell_type": "code",
   "execution_count": 125,
   "id": "4e4bf7b5-e8a2-4f40-a8a4-ac71b776f975",
   "metadata": {},
   "outputs": [
    {
     "data": {
      "text/html": [
       "<div>\n",
       "<style scoped>\n",
       "    .dataframe tbody tr th:only-of-type {\n",
       "        vertical-align: middle;\n",
       "    }\n",
       "\n",
       "    .dataframe tbody tr th {\n",
       "        vertical-align: top;\n",
       "    }\n",
       "\n",
       "    .dataframe thead th {\n",
       "        text-align: right;\n",
       "    }\n",
       "</style>\n",
       "<table border=\"1\" class=\"dataframe\">\n",
       "  <thead>\n",
       "    <tr style=\"text-align: right;\">\n",
       "      <th></th>\n",
       "      <th>CSUSHPISA</th>\n",
       "      <th>Per_Capita_GDP</th>\n",
       "      <th>Houses</th>\n",
       "      <th>UNRATE</th>\n",
       "      <th>FEDFUNDS</th>\n",
       "      <th>Subsidy</th>\n",
       "      <th>Income</th>\n",
       "    </tr>\n",
       "  </thead>\n",
       "  <tbody>\n",
       "    <tr>\n",
       "      <th>CSUSHPISA</th>\n",
       "      <td>1.000000</td>\n",
       "      <td>0.900417</td>\n",
       "      <td>0.229842</td>\n",
       "      <td>-0.612388</td>\n",
       "      <td>0.068704</td>\n",
       "      <td>0.826316</td>\n",
       "      <td>0.862518</td>\n",
       "    </tr>\n",
       "    <tr>\n",
       "      <th>Per_Capita_GDP</th>\n",
       "      <td>0.900417</td>\n",
       "      <td>1.000000</td>\n",
       "      <td>-0.066954</td>\n",
       "      <td>-0.527126</td>\n",
       "      <td>-0.147761</td>\n",
       "      <td>0.939310</td>\n",
       "      <td>0.895039</td>\n",
       "    </tr>\n",
       "    <tr>\n",
       "      <th>Houses</th>\n",
       "      <td>0.229842</td>\n",
       "      <td>-0.066954</td>\n",
       "      <td>1.000000</td>\n",
       "      <td>-0.661334</td>\n",
       "      <td>0.720922</td>\n",
       "      <td>-0.275058</td>\n",
       "      <td>-0.245877</td>\n",
       "    </tr>\n",
       "    <tr>\n",
       "      <th>UNRATE</th>\n",
       "      <td>-0.612388</td>\n",
       "      <td>-0.527126</td>\n",
       "      <td>-0.661334</td>\n",
       "      <td>1.000000</td>\n",
       "      <td>-0.494753</td>\n",
       "      <td>-0.288108</td>\n",
       "      <td>-0.279894</td>\n",
       "    </tr>\n",
       "    <tr>\n",
       "      <th>FEDFUNDS</th>\n",
       "      <td>0.068704</td>\n",
       "      <td>-0.147761</td>\n",
       "      <td>0.720922</td>\n",
       "      <td>-0.494753</td>\n",
       "      <td>1.000000</td>\n",
       "      <td>-0.376518</td>\n",
       "      <td>-0.331010</td>\n",
       "    </tr>\n",
       "    <tr>\n",
       "      <th>Subsidy</th>\n",
       "      <td>0.826316</td>\n",
       "      <td>0.939310</td>\n",
       "      <td>-0.275058</td>\n",
       "      <td>-0.288108</td>\n",
       "      <td>-0.376518</td>\n",
       "      <td>1.000000</td>\n",
       "      <td>0.920197</td>\n",
       "    </tr>\n",
       "    <tr>\n",
       "      <th>Income</th>\n",
       "      <td>0.862518</td>\n",
       "      <td>0.895039</td>\n",
       "      <td>-0.245877</td>\n",
       "      <td>-0.279894</td>\n",
       "      <td>-0.331010</td>\n",
       "      <td>0.920197</td>\n",
       "      <td>1.000000</td>\n",
       "    </tr>\n",
       "  </tbody>\n",
       "</table>\n",
       "</div>"
      ],
      "text/plain": [
       "                CSUSHPISA  Per_Capita_GDP    Houses    UNRATE  FEDFUNDS  \\\n",
       "CSUSHPISA        1.000000        0.900417  0.229842 -0.612388  0.068704   \n",
       "Per_Capita_GDP   0.900417        1.000000 -0.066954 -0.527126 -0.147761   \n",
       "Houses           0.229842       -0.066954  1.000000 -0.661334  0.720922   \n",
       "UNRATE          -0.612388       -0.527126 -0.661334  1.000000 -0.494753   \n",
       "FEDFUNDS         0.068704       -0.147761  0.720922 -0.494753  1.000000   \n",
       "Subsidy          0.826316        0.939310 -0.275058 -0.288108 -0.376518   \n",
       "Income           0.862518        0.895039 -0.245877 -0.279894 -0.331010   \n",
       "\n",
       "                 Subsidy    Income  \n",
       "CSUSHPISA       0.826316  0.862518  \n",
       "Per_Capita_GDP  0.939310  0.895039  \n",
       "Houses         -0.275058 -0.245877  \n",
       "UNRATE         -0.288108 -0.279894  \n",
       "FEDFUNDS       -0.376518 -0.331010  \n",
       "Subsidy         1.000000  0.920197  \n",
       "Income          0.920197  1.000000  "
      ]
     },
     "execution_count": 125,
     "metadata": {},
     "output_type": "execute_result"
    }
   ],
   "source": [
    "# look at the Correlation\n",
    "df.corr()"
   ]
  },
  {
   "cell_type": "code",
   "execution_count": 126,
   "id": "c7af7a32-e2b8-4ce8-8d77-d5c33b01d69b",
   "metadata": {},
   "outputs": [],
   "source": [
    "# Separating the target variable and the independent variable\n",
    "y = df.pop(\"CSUSHPISA\")\n",
    "X = df"
   ]
  },
  {
   "cell_type": "code",
   "execution_count": 127,
   "id": "6a5ed12a-e62b-4e8b-8e25-d28ecebd4e0b",
   "metadata": {},
   "outputs": [
    {
     "data": {
      "image/png": "[encoded data removed]",
      "text/plain": [
       "<Figure size 640x480 with 1 Axes>"
      ]
     },
     "metadata": {},
     "output_type": "display_data"
    },
    {
     "data": {
      "image/png": "[encoded data removed]",
      "text/plain": [
       "<Figure size 640x480 with 1 Axes>"
      ]
     },
     "metadata": {},
     "output_type": "display_data"
    },
    {
     "data": {
      "image/png": "[encoded data removed]",
      "text/plain": [
       "<Figure size 640x480 with 1 Axes>"
      ]
     },
     "metadata": {},
     "output_type": "display_data"
    },
    {
     "data": {
      "image/png": "[encoded data removed]",
      "text/plain": [
       "<Figure size 640x480 with 1 Axes>"
      ]
     },
     "metadata": {},
     "output_type": "display_data"
    },
    {
     "data": {
      "image/png": "[encoded data removed]",
      "text/plain": [
       "<Figure size 640x480 with 1 Axes>"
      ]
     },
     "metadata": {},
     "output_type": "display_data"
    },
    {
     "data": {
      "image/png": "[encoded data removed]",
      "text/plain": [
       "<Figure size 640x480 with 1 Axes>"
      ]
     },
     "metadata": {},
     "output_type": "display_data"
    }
   ],
   "source": [
    "for feature in X.columns:\n",
    "    plt.figure()\n",
    "    plt.scatter(x = X[feature], y = y)\n",
    "    plt.xlabel(feature)\n",
    "    plt.ylabel(\"CASE-SHILLER index\")\n",
    "    plt.title(f\"CASE-SHILLER index vs {feature}\")"
   ]
  },
  {
   "cell_type": "markdown",
   "id": "77472a1d-bec3-41f8-ac85-bac2657bc3fe",
   "metadata": {},
   "source": [
    "From the correlation matrix and the scatter plots, the following conclusions can be made-\n",
    "\n",
    "Number of new houses has almost 0 correlation. This is unexpected as one would think that the number of houses supplied should also affect home prices. Maybe the number of new houses built are not enough to bring the prices down significantly.\n",
    "Impact of the great recession is reflected in almost all the plots.\n",
    "Interest rates have a slight negative impact on the home prices.\n",
    "All the other variables are positively correlated with the home prices."
   ]
  },
  {
   "cell_type": "markdown",
   "id": "0f5e2757-25aa-4aff-8f94-4ff31dfa80ee",
   "metadata": {},
   "source": [
    "### Model Building"
   ]
  },
  {
   "cell_type": "code",
   "execution_count": 142,
   "id": "e897f1a8-8349-498f-a9a9-b04cb14c43d0",
   "metadata": {},
   "outputs": [
    {
     "name": "stdout",
     "output_type": "stream",
     "text": [
      "Collecting scikit-learn\n",
      "  Obtaining dependency information for scikit-learn from https://files.pythonhosted.org/packages/fe/6b/db949ed5ac367987b1f250f070f340b7715d22f0c9c965bdf07de6ca75a3/scikit_learn-1.3.2-cp312-cp312-win_amd64.whl.metadata\n",
      "  Downloading scikit_learn-1.3.2-cp312-cp312-win_amd64.whl.metadata (11 kB)\n",
      "Requirement already satisfied: numpy<2.0,>=1.17.3 in c:\\users\\amitc\\appdata\\local\\programs\\python\\python312\\lib\\site-packages (from scikit-learn) (1.26.2)\n",
      "Collecting scipy>=1.5.0 (from scikit-learn)\n",
      "  Obtaining dependency information for scipy>=1.5.0 from https://files.pythonhosted.org/packages/c6/a1/357e4cd43af2748e1e0407ae0e9a5ea8aaaa6b702833c81be11670dcbad8/scipy-1.11.4-cp312-cp312-win_amd64.whl.metadata\n",
      "  Downloading scipy-1.11.4-cp312-cp312-win_amd64.whl.metadata (60 kB)\n",
      "     ---------------------------------------- 0.0/60.4 kB ? eta -:--:--\n",
      "     ---------------------------------------- 0.0/60.4 kB ? eta -:--:--\n",
      "     ------------------- ------------------ 30.7/60.4 kB 660.6 kB/s eta 0:00:01\n",
      "     -------------------------------------- 60.4/60.4 kB 796.2 kB/s eta 0:00:00\n",
      "Collecting joblib>=1.1.1 (from scikit-learn)\n",
      "  Obtaining dependency information for joblib>=1.1.1 from https://files.pythonhosted.org/packages/10/40/d551139c85db202f1f384ba8bcf96aca2f329440a844f924c8a0040b6d02/joblib-1.3.2-py3-none-any.whl.metadata\n",
      "  Downloading joblib-1.3.2-py3-none-any.whl.metadata (5.4 kB)\n",
      "Collecting threadpoolctl>=2.0.0 (from scikit-learn)\n",
      "  Obtaining dependency information for threadpoolctl>=2.0.0 from https://files.pythonhosted.org/packages/81/12/fd4dea011af9d69e1cad05c75f3f7202cdcbeac9b712eea58ca779a72865/threadpoolctl-3.2.0-py3-none-any.whl.metadata\n",
      "  Downloading threadpoolctl-3.2.0-py3-none-any.whl.metadata (10.0 kB)\n",
      "Downloading scikit_learn-1.3.2-cp312-cp312-win_amd64.whl (9.1 MB)\n",
      "   ---------------------------------------- 0.0/9.1 MB ? eta -:--:--\n",
      "   ---------------------------------------- 0.1/9.1 MB 5.1 MB/s eta 0:00:02\n",
      "   - -------------------------------------- 0.2/9.1 MB 2.9 MB/s eta 0:00:04\n",
      "   - -------------------------------------- 0.5/9.1 MB 3.5 MB/s eta 0:00:03\n",
      "   --- ------------------------------------ 0.7/9.1 MB 4.0 MB/s eta 0:00:03\n",
      "   --- ------------------------------------ 0.9/9.1 MB 4.1 MB/s eta 0:00:03\n",
      "   ----- ---------------------------------- 1.2/9.1 MB 4.4 MB/s eta 0:00:02\n",
      "   ------ --------------------------------- 1.4/9.1 MB 4.5 MB/s eta 0:00:02\n",
      "   ------- -------------------------------- 1.6/9.1 MB 4.7 MB/s eta 0:00:02\n",
      "   -------- ------------------------------- 1.9/9.1 MB 4.6 MB/s eta 0:00:02\n",
      "   --------- ------------------------------ 2.1/9.1 MB 4.6 MB/s eta 0:00:02\n",
      "   ---------- ----------------------------- 2.4/9.1 MB 4.7 MB/s eta 0:00:02\n",
      "   ----------- ---------------------------- 2.7/9.1 MB 4.9 MB/s eta 0:00:02\n",
      "   ------------- -------------------------- 3.0/9.1 MB 5.0 MB/s eta 0:00:02\n",
      "   -------------- ------------------------- 3.3/9.1 MB 5.1 MB/s eta 0:00:02\n",
      "   --------------- ------------------------ 3.6/9.1 MB 5.2 MB/s eta 0:00:02\n",
      "   ----------------- ---------------------- 3.9/9.1 MB 5.3 MB/s eta 0:00:01\n",
      "   ----------------- ---------------------- 4.1/9.1 MB 5.2 MB/s eta 0:00:01\n",
      "   ------------------ --------------------- 4.3/9.1 MB 5.3 MB/s eta 0:00:01\n",
      "   ------------------- -------------------- 4.5/9.1 MB 5.2 MB/s eta 0:00:01\n",
      "   --------------------- ------------------ 4.8/9.1 MB 5.2 MB/s eta 0:00:01\n",
      "   --------------------- ------------------ 5.0/9.1 MB 5.3 MB/s eta 0:00:01\n",
      "   --------------------- ------------------ 5.0/9.1 MB 5.3 MB/s eta 0:00:01\n",
      "   ----------------------- ---------------- 5.3/9.1 MB 5.0 MB/s eta 0:00:01\n",
      "   ----------------------- ---------------- 5.5/9.1 MB 5.0 MB/s eta 0:00:01\n",
      "   ------------------------ --------------- 5.7/9.1 MB 4.9 MB/s eta 0:00:01\n",
      "   ------------------------- -------------- 5.8/9.1 MB 4.9 MB/s eta 0:00:01\n",
      "   -------------------------- ------------- 6.0/9.1 MB 4.9 MB/s eta 0:00:01\n",
      "   --------------------------- ------------ 6.2/9.1 MB 4.8 MB/s eta 0:00:01\n",
      "   --------------------------- ------------ 6.3/9.1 MB 4.8 MB/s eta 0:00:01\n",
      "   ----------------------------- ---------- 6.6/9.1 MB 4.8 MB/s eta 0:00:01\n",
      "   ----------------------------- ---------- 6.8/9.1 MB 4.8 MB/s eta 0:00:01\n",
      "   ------------------------------- -------- 7.1/9.1 MB 4.8 MB/s eta 0:00:01\n",
      "   -------------------------------- ------- 7.4/9.1 MB 4.9 MB/s eta 0:00:01\n",
      "   --------------------------------- ------ 7.6/9.1 MB 4.8 MB/s eta 0:00:01\n",
      "   ---------------------------------- ----- 7.8/9.1 MB 4.8 MB/s eta 0:00:01\n",
      "   ----------------------------------- ---- 8.0/9.1 MB 4.8 MB/s eta 0:00:01\n",
      "   ------------------------------------ --- 8.3/9.1 MB 4.9 MB/s eta 0:00:01\n",
      "   -------------------------------------- - 8.7/9.1 MB 4.9 MB/s eta 0:00:01\n",
      "   ---------------------------------------  9.0/9.1 MB 4.9 MB/s eta 0:00:01\n",
      "   ---------------------------------------  9.1/9.1 MB 4.9 MB/s eta 0:00:01\n",
      "   ---------------------------------------- 9.1/9.1 MB 4.8 MB/s eta 0:00:00\n",
      "Downloading joblib-1.3.2-py3-none-any.whl (302 kB)\n",
      "   ---------------------------------------- 0.0/302.2 kB ? eta -:--:--\n",
      "   ---------------------------------------  297.0/302.2 kB 9.2 MB/s eta 0:00:01\n",
      "   ---------------------------------------- 302.2/302.2 kB 6.2 MB/s eta 0:00:00\n",
      "Downloading scipy-1.11.4-cp312-cp312-win_amd64.whl (43.7 MB)\n",
      "   ---------------------------------------- 0.0/43.7 MB ? eta -:--:--\n",
      "   ---------------------------------------- 0.3/43.7 MB 5.9 MB/s eta 0:00:08\n",
      "   ---------------------------------------- 0.4/43.7 MB 5.4 MB/s eta 0:00:09\n",
      "    --------------------------------------- 0.7/43.7 MB 5.0 MB/s eta 0:00:09\n",
      "    --------------------------------------- 1.0/43.7 MB 5.1 MB/s eta 0:00:09\n",
      "   - -------------------------------------- 1.1/43.7 MB 4.8 MB/s eta 0:00:09\n",
      "   - -------------------------------------- 1.4/43.7 MB 5.1 MB/s eta 0:00:09\n",
      "   - -------------------------------------- 1.6/43.7 MB 5.1 MB/s eta 0:00:09\n",
      "   - -------------------------------------- 1.8/43.7 MB 5.1 MB/s eta 0:00:09\n",
      "   - -------------------------------------- 2.1/43.7 MB 5.1 MB/s eta 0:00:09\n",
      "   -- ------------------------------------- 2.4/43.7 MB 5.1 MB/s eta 0:00:09\n",
      "   -- ------------------------------------- 2.7/43.7 MB 5.2 MB/s eta 0:00:08\n",
      "   -- ------------------------------------- 2.9/43.7 MB 5.2 MB/s eta 0:00:08\n",
      "   -- ------------------------------------- 3.2/43.7 MB 5.2 MB/s eta 0:00:08\n",
      "   --- ------------------------------------ 3.5/43.7 MB 5.3 MB/s eta 0:00:08\n",
      "   --- ------------------------------------ 3.7/43.7 MB 5.3 MB/s eta 0:00:08\n",
      "   --- ------------------------------------ 4.0/43.7 MB 5.4 MB/s eta 0:00:08\n",
      "   --- ------------------------------------ 4.3/43.7 MB 5.4 MB/s eta 0:00:08\n",
      "   ---- ----------------------------------- 4.5/43.7 MB 5.4 MB/s eta 0:00:08\n",
      "   ---- ----------------------------------- 4.8/43.7 MB 5.4 MB/s eta 0:00:08\n",
      "   ---- ----------------------------------- 5.1/43.7 MB 5.5 MB/s eta 0:00:08\n",
      "   ---- ----------------------------------- 5.4/43.7 MB 5.5 MB/s eta 0:00:07\n",
      "   ----- ---------------------------------- 5.7/43.7 MB 5.5 MB/s eta 0:00:07\n",
      "   ----- ---------------------------------- 6.0/43.7 MB 5.5 MB/s eta 0:00:07\n",
      "   ----- ---------------------------------- 6.3/43.7 MB 5.6 MB/s eta 0:00:07\n",
      "   ------ --------------------------------- 6.6/43.7 MB 5.6 MB/s eta 0:00:07\n",
      "   ------ --------------------------------- 6.9/43.7 MB 5.6 MB/s eta 0:00:07\n",
      "   ------ --------------------------------- 7.2/43.7 MB 5.7 MB/s eta 0:00:07\n",
      "   ------ --------------------------------- 7.5/43.7 MB 5.7 MB/s eta 0:00:07\n",
      "   ------- -------------------------------- 7.7/43.7 MB 5.7 MB/s eta 0:00:07\n",
      "   ------- -------------------------------- 8.0/43.7 MB 5.7 MB/s eta 0:00:07\n",
      "   ------- -------------------------------- 8.3/43.7 MB 5.7 MB/s eta 0:00:07\n",
      "   ------- -------------------------------- 8.6/43.7 MB 5.7 MB/s eta 0:00:07\n",
      "   -------- ------------------------------- 8.8/43.7 MB 5.7 MB/s eta 0:00:07\n",
      "   -------- ------------------------------- 9.0/43.7 MB 5.6 MB/s eta 0:00:07\n",
      "   -------- ------------------------------- 9.2/43.7 MB 5.7 MB/s eta 0:00:07\n",
      "   -------- ------------------------------- 9.5/43.7 MB 5.7 MB/s eta 0:00:07\n",
      "   -------- ------------------------------- 9.7/43.7 MB 5.6 MB/s eta 0:00:07\n",
      "   --------- ------------------------------ 9.9/43.7 MB 5.6 MB/s eta 0:00:07\n",
      "   --------- ------------------------------ 10.1/43.7 MB 5.6 MB/s eta 0:00:07\n",
      "   --------- ------------------------------ 10.4/43.7 MB 5.6 MB/s eta 0:00:06\n",
      "   --------- ------------------------------ 10.8/43.7 MB 5.7 MB/s eta 0:00:06\n",
      "   ---------- ----------------------------- 11.0/43.7 MB 5.6 MB/s eta 0:00:06\n",
      "   ---------- ----------------------------- 11.2/43.7 MB 5.6 MB/s eta 0:00:06\n",
      "   ---------- ----------------------------- 11.5/43.7 MB 5.7 MB/s eta 0:00:06\n",
      "   ---------- ----------------------------- 11.8/43.7 MB 5.7 MB/s eta 0:00:06\n",
      "   ----------- ---------------------------- 12.0/43.7 MB 5.7 MB/s eta 0:00:06\n",
      "   ----------- ---------------------------- 12.3/43.7 MB 5.7 MB/s eta 0:00:06\n",
      "   ----------- ---------------------------- 12.6/43.7 MB 5.8 MB/s eta 0:00:06\n",
      "   ----------- ---------------------------- 12.9/43.7 MB 5.8 MB/s eta 0:00:06\n",
      "   ------------ --------------------------- 13.1/43.7 MB 5.8 MB/s eta 0:00:06\n",
      "   ------------ --------------------------- 13.3/43.7 MB 5.7 MB/s eta 0:00:06\n",
      "   ------------ --------------------------- 13.6/43.7 MB 5.7 MB/s eta 0:00:06\n",
      "   ------------ --------------------------- 13.9/43.7 MB 5.7 MB/s eta 0:00:06\n",
      "   ------------ --------------------------- 14.0/43.7 MB 5.7 MB/s eta 0:00:06\n",
      "   ------------- -------------------------- 14.3/43.7 MB 5.7 MB/s eta 0:00:06\n",
      "   ------------- -------------------------- 14.6/43.7 MB 5.7 MB/s eta 0:00:06\n",
      "   ------------- -------------------------- 14.9/43.7 MB 5.7 MB/s eta 0:00:06\n",
      "   ------------- -------------------------- 15.1/43.7 MB 5.7 MB/s eta 0:00:06\n",
      "   ------------- -------------------------- 15.3/43.7 MB 5.6 MB/s eta 0:00:06\n",
      "   -------------- ------------------------- 15.5/43.7 MB 5.6 MB/s eta 0:00:05\n",
      "   -------------- ------------------------- 15.7/43.7 MB 5.5 MB/s eta 0:00:06\n",
      "   -------------- ------------------------- 16.0/43.7 MB 5.5 MB/s eta 0:00:06\n",
      "   -------------- ------------------------- 16.2/43.7 MB 5.5 MB/s eta 0:00:05\n",
      "   --------------- ------------------------ 16.5/43.7 MB 5.5 MB/s eta 0:00:05\n",
      "   --------------- ------------------------ 16.7/43.7 MB 5.5 MB/s eta 0:00:05\n",
      "   --------------- ------------------------ 17.0/43.7 MB 5.5 MB/s eta 0:00:05\n",
      "   --------------- ------------------------ 17.2/43.7 MB 5.5 MB/s eta 0:00:05\n",
      "   --------------- ------------------------ 17.4/43.7 MB 5.4 MB/s eta 0:00:05\n",
      "   ---------------- ----------------------- 17.7/43.7 MB 5.4 MB/s eta 0:00:05\n",
      "   ---------------- ----------------------- 18.0/43.7 MB 5.4 MB/s eta 0:00:05\n",
      "   ---------------- ----------------------- 18.3/43.7 MB 5.4 MB/s eta 0:00:05\n",
      "   ---------------- ----------------------- 18.5/43.7 MB 5.4 MB/s eta 0:00:05\n",
      "   ----------------- ---------------------- 18.7/43.7 MB 5.4 MB/s eta 0:00:05\n",
      "   ----------------- ---------------------- 19.0/43.7 MB 5.5 MB/s eta 0:00:05\n",
      "   ----------------- ---------------------- 19.3/43.7 MB 5.5 MB/s eta 0:00:05\n",
      "   ----------------- ---------------------- 19.5/43.7 MB 5.4 MB/s eta 0:00:05\n",
      "   ----------------- ---------------------- 19.7/43.7 MB 5.4 MB/s eta 0:00:05\n",
      "   ------------------ --------------------- 19.9/43.7 MB 5.4 MB/s eta 0:00:05\n",
      "   ------------------ --------------------- 20.2/43.7 MB 5.4 MB/s eta 0:00:05\n",
      "   ------------------ --------------------- 20.3/43.7 MB 5.4 MB/s eta 0:00:05\n",
      "   ------------------ --------------------- 20.6/43.7 MB 5.4 MB/s eta 0:00:05\n",
      "   ------------------- -------------------- 20.8/43.7 MB 5.3 MB/s eta 0:00:05\n",
      "   ------------------- -------------------- 21.1/43.7 MB 5.3 MB/s eta 0:00:05\n",
      "   ------------------- -------------------- 21.2/43.7 MB 5.3 MB/s eta 0:00:05\n",
      "   ------------------- -------------------- 21.5/43.7 MB 5.3 MB/s eta 0:00:05\n",
      "   ------------------- -------------------- 21.8/43.7 MB 5.3 MB/s eta 0:00:05\n",
      "   -------------------- ------------------- 22.0/43.7 MB 5.3 MB/s eta 0:00:05\n",
      "   -------------------- ------------------- 22.3/43.7 MB 5.3 MB/s eta 0:00:05\n",
      "   -------------------- ------------------- 22.5/43.7 MB 5.3 MB/s eta 0:00:05\n",
      "   -------------------- ------------------- 22.8/43.7 MB 5.3 MB/s eta 0:00:04\n",
      "   --------------------- ------------------ 23.1/43.7 MB 5.3 MB/s eta 0:00:04\n",
      "   --------------------- ------------------ 23.4/43.7 MB 5.3 MB/s eta 0:00:04\n",
      "   --------------------- ------------------ 23.6/43.7 MB 5.3 MB/s eta 0:00:04\n",
      "   --------------------- ------------------ 23.9/43.7 MB 5.3 MB/s eta 0:00:04\n",
      "   ---------------------- ----------------- 24.2/43.7 MB 5.4 MB/s eta 0:00:04\n",
      "   ---------------------- ----------------- 24.5/43.7 MB 5.4 MB/s eta 0:00:04\n",
      "   ---------------------- ----------------- 24.8/43.7 MB 5.4 MB/s eta 0:00:04\n",
      "   ---------------------- ----------------- 25.1/43.7 MB 5.4 MB/s eta 0:00:04\n",
      "   ----------------------- ---------------- 25.3/43.7 MB 5.4 MB/s eta 0:00:04\n",
      "   ----------------------- ---------------- 25.6/43.7 MB 5.5 MB/s eta 0:00:04\n",
      "   ----------------------- ---------------- 25.8/43.7 MB 5.5 MB/s eta 0:00:04\n",
      "   ----------------------- ---------------- 26.1/43.7 MB 5.5 MB/s eta 0:00:04\n",
      "   ------------------------ --------------- 26.5/43.7 MB 5.5 MB/s eta 0:00:04\n",
      "   ------------------------ --------------- 26.7/43.7 MB 5.5 MB/s eta 0:00:04\n",
      "   ------------------------ --------------- 26.9/43.7 MB 5.5 MB/s eta 0:00:04\n",
      "   ------------------------ --------------- 27.2/43.7 MB 5.5 MB/s eta 0:00:04\n",
      "   ------------------------- -------------- 27.5/43.7 MB 5.5 MB/s eta 0:00:03\n",
      "   ------------------------- -------------- 27.8/43.7 MB 5.6 MB/s eta 0:00:03\n",
      "   ------------------------- -------------- 28.1/43.7 MB 5.6 MB/s eta 0:00:03\n",
      "   ------------------------- -------------- 28.4/43.7 MB 5.6 MB/s eta 0:00:03\n",
      "   -------------------------- ------------- 28.6/43.7 MB 5.5 MB/s eta 0:00:03\n",
      "   -------------------------- ------------- 28.9/43.7 MB 5.6 MB/s eta 0:00:03\n",
      "   -------------------------- ------------- 29.1/43.7 MB 5.6 MB/s eta 0:00:03\n",
      "   -------------------------- ------------- 29.4/43.7 MB 5.5 MB/s eta 0:00:03\n",
      "   --------------------------- ------------ 29.7/43.7 MB 5.6 MB/s eta 0:00:03\n",
      "   --------------------------- ------------ 30.0/43.7 MB 5.7 MB/s eta 0:00:03\n",
      "   --------------------------- ------------ 30.2/43.7 MB 5.7 MB/s eta 0:00:03\n",
      "   --------------------------- ------------ 30.5/43.7 MB 5.7 MB/s eta 0:00:03\n",
      "   ---------------------------- ----------- 30.8/43.7 MB 5.7 MB/s eta 0:00:03\n",
      "   ---------------------------- ----------- 31.0/43.7 MB 5.8 MB/s eta 0:00:03\n",
      "   ---------------------------- ----------- 31.4/43.7 MB 5.8 MB/s eta 0:00:03\n",
      "   ---------------------------- ----------- 31.7/43.7 MB 5.8 MB/s eta 0:00:03\n",
      "   ----------------------------- ---------- 31.9/43.7 MB 5.8 MB/s eta 0:00:03\n",
      "   ----------------------------- ---------- 32.1/43.7 MB 5.8 MB/s eta 0:00:02\n",
      "   ----------------------------- ---------- 32.3/43.7 MB 5.8 MB/s eta 0:00:02\n",
      "   ----------------------------- ---------- 32.6/43.7 MB 5.8 MB/s eta 0:00:02\n",
      "   ------------------------------ --------- 32.9/43.7 MB 5.9 MB/s eta 0:00:02\n",
      "   ------------------------------ --------- 33.1/43.7 MB 5.8 MB/s eta 0:00:02\n",
      "   ------------------------------ --------- 33.4/43.7 MB 5.8 MB/s eta 0:00:02\n",
      "   ------------------------------ --------- 33.7/43.7 MB 5.8 MB/s eta 0:00:02\n",
      "   ------------------------------- -------- 34.0/43.7 MB 5.8 MB/s eta 0:00:02\n",
      "   ------------------------------- -------- 34.4/43.7 MB 5.9 MB/s eta 0:00:02\n",
      "   ------------------------------- -------- 34.7/43.7 MB 6.0 MB/s eta 0:00:02\n",
      "   ------------------------------- -------- 35.0/43.7 MB 5.9 MB/s eta 0:00:02\n",
      "   -------------------------------- ------- 35.3/43.7 MB 5.9 MB/s eta 0:00:02\n",
      "   -------------------------------- ------- 35.5/43.7 MB 5.9 MB/s eta 0:00:02\n",
      "   -------------------------------- ------- 35.7/43.7 MB 5.8 MB/s eta 0:00:02\n",
      "   -------------------------------- ------- 35.9/43.7 MB 5.8 MB/s eta 0:00:02\n",
      "   --------------------------------- ------ 36.2/43.7 MB 5.8 MB/s eta 0:00:02\n",
      "   --------------------------------- ------ 36.5/43.7 MB 5.8 MB/s eta 0:00:02\n",
      "   --------------------------------- ------ 36.7/43.7 MB 5.8 MB/s eta 0:00:02\n",
      "   --------------------------------- ------ 37.0/43.7 MB 5.7 MB/s eta 0:00:02\n",
      "   ---------------------------------- ----- 37.3/43.7 MB 5.8 MB/s eta 0:00:02\n",
      "   ---------------------------------- ----- 37.5/43.7 MB 5.7 MB/s eta 0:00:02\n",
      "   ---------------------------------- ----- 37.8/43.7 MB 5.8 MB/s eta 0:00:02\n",
      "   ---------------------------------- ----- 38.1/43.7 MB 5.8 MB/s eta 0:00:01\n",
      "   ----------------------------------- ---- 38.3/43.7 MB 5.8 MB/s eta 0:00:01\n",
      "   ----------------------------------- ---- 38.5/43.7 MB 5.8 MB/s eta 0:00:01\n",
      "   ----------------------------------- ---- 38.7/43.7 MB 5.7 MB/s eta 0:00:01\n",
      "   ----------------------------------- ---- 39.1/43.7 MB 5.7 MB/s eta 0:00:01\n",
      "   ------------------------------------ --- 39.4/43.7 MB 5.8 MB/s eta 0:00:01\n",
      "   ------------------------------------ --- 39.6/43.7 MB 5.8 MB/s eta 0:00:01\n",
      "   ------------------------------------ --- 39.8/43.7 MB 5.7 MB/s eta 0:00:01\n",
      "   ------------------------------------ --- 40.1/43.7 MB 5.7 MB/s eta 0:00:01\n",
      "   ------------------------------------ --- 40.3/43.7 MB 5.7 MB/s eta 0:00:01\n",
      "   ------------------------------------- -- 40.6/43.7 MB 5.7 MB/s eta 0:00:01\n",
      "   ------------------------------------- -- 40.9/43.7 MB 5.7 MB/s eta 0:00:01\n",
      "   ------------------------------------- -- 41.1/43.7 MB 5.7 MB/s eta 0:00:01\n",
      "   ------------------------------------- -- 41.3/43.7 MB 5.7 MB/s eta 0:00:01\n",
      "   -------------------------------------- - 41.7/43.7 MB 5.6 MB/s eta 0:00:01\n",
      "   -------------------------------------- - 42.0/43.7 MB 5.7 MB/s eta 0:00:01\n",
      "   -------------------------------------- - 42.3/43.7 MB 5.8 MB/s eta 0:00:01\n",
      "   -------------------------------------- - 42.5/43.7 MB 5.8 MB/s eta 0:00:01\n",
      "   ---------------------------------------  42.8/43.7 MB 5.8 MB/s eta 0:00:01\n",
      "   ---------------------------------------  43.1/43.7 MB 5.7 MB/s eta 0:00:01\n",
      "   ---------------------------------------  43.4/43.7 MB 5.8 MB/s eta 0:00:01\n",
      "   ---------------------------------------  43.7/43.7 MB 5.8 MB/s eta 0:00:01\n",
      "   ---------------------------------------  43.7/43.7 MB 5.7 MB/s eta 0:00:01\n",
      "   ---------------------------------------  43.7/43.7 MB 5.7 MB/s eta 0:00:01\n",
      "   ---------------------------------------  43.7/43.7 MB 5.7 MB/s eta 0:00:01\n",
      "   ---------------------------------------- 43.7/43.7 MB 4.9 MB/s eta 0:00:00\n",
      "Downloading threadpoolctl-3.2.0-py3-none-any.whl (15 kB)\n",
      "Installing collected packages: threadpoolctl, scipy, joblib, scikit-learn\n",
      "Successfully installed joblib-1.3.2 scikit-learn-1.3.2 scipy-1.11.4 threadpoolctl-3.2.0\n"
     ]
    },
    {
     "name": "stderr",
     "output_type": "stream",
     "text": [
      "\n",
      "[notice] A new release of pip is available: 23.2.1 -> 23.3.1\n",
      "[notice] To update, run: python.exe -m pip install --upgrade pip\n"
     ]
    }
   ],
   "source": [
    "!pip install scikit-learn"
   ]
  },
  {
   "cell_type": "code",
   "execution_count": 144,
   "id": "aac60171-49f3-48c1-afcb-282b3d514f48",
   "metadata": {},
   "outputs": [],
   "source": [
    "import matplotlib.pyplot as plt\n",
    "from sklearn.preprocessing import MinMaxScaler\n",
    "from sklearn.linear_model import LinearRegression\n",
    "from sklearn.model_selection import train_test_split\n",
    "from sklearn.metrics import r2_score"
   ]
  },
  {
   "cell_type": "code",
   "execution_count": 145,
   "id": "15f2df48-0298-4993-b5f7-6c5b4c54ee0b",
   "metadata": {},
   "outputs": [],
   "source": [
    "# Scaling\n",
    "scalar = MinMaxScaler()\n",
    "X = scalar.fit_transform(X)"
   ]
  },
  {
   "cell_type": "code",
   "execution_count": 146,
   "id": "8a95b41d-5350-4d9a-8a5d-447e5ed6fb44",
   "metadata": {},
   "outputs": [],
   "source": [
    "# Splitting data into train and validation sets\n",
    "X_train, X_valid, y_train, y_valid = train_test_split(X,y, test_size= 0.2, random_state= 42)"
   ]
  },
  {
   "cell_type": "code",
   "execution_count": 147,
   "id": "06534ace-dbaf-487b-ba79-5bda8ab1ad90",
   "metadata": {},
   "outputs": [
    {
     "name": "stdout",
     "output_type": "stream",
     "text": [
      "The r2_score for the validation set is:  0.960940870423439\n"
     ]
    }
   ],
   "source": [
    "# Linear Regression Model\n",
    "model = LinearRegression()\n",
    "model.fit(X_train, y_train)\n",
    "pred = model.predict(X_valid)\n",
    "score = r2_score(pred, y_valid)\n",
    "print(\"The r2_score for the validation set is: \", score)"
   ]
  },
  {
   "cell_type": "code",
   "execution_count": 148,
   "id": "4772dc99-4c6f-4b8b-a6e2-81dceac3301f",
   "metadata": {},
   "outputs": [
    {
     "name": "stdout",
     "output_type": "stream",
     "text": [
      "The coefficient for Per_Capita_GDP is -16.155457224110624\n",
      "The coefficient for Houses is 55.87671118235804\n",
      "The coefficient for UNRATE is -1.5779268411429332\n",
      "The coefficient for FEDFUNDS is 17.87556247473254\n",
      "The coefficient for Subsidy is 81.63114430955957\n",
      "The coefficient for Income is 100.1576191290912\n"
     ]
    }
   ],
   "source": [
    "#Printing the regression coefficients of different variables\n",
    "coefs = model.coef_\n",
    "cols = df.columns\n",
    "for i in range(len(coefs)):\n",
    "    print(f\"The coefficient for {cols[i]} is {coefs[i]}\")"
   ]
  },
  {
   "cell_type": "code",
   "execution_count": 151,
   "id": "0bd9fe6a-8bc7-4767-972b-6ca7b00d0b47",
   "metadata": {},
   "outputs": [
    {
     "name": "stdout",
     "output_type": "stream",
     "text": [
      "The intercept is:  92.77520376023891\n"
     ]
    }
   ],
   "source": [
    "# The intercept\n",
    "print(\"The intercept is: \", model.intercept_)\n"
   ]
  },
  {
   "cell_type": "code",
   "execution_count": 156,
   "id": "de9d9f09-399d-41a6-9d34-d5867d9b6fa5",
   "metadata": {},
   "outputs": [
    {
     "data": {
      "text/plain": [
       "[<matplotlib.lines.Line2D at 0x26843535d60>]"
      ]
     },
     "execution_count": 156,
     "metadata": {},
     "output_type": "execute_result"
    },
    {
     "data": {
      "image/png": "[encoded data removed]",
      "text/plain": [
       "<Figure size 800x600 with 1 Axes>"
      ]
     },
     "metadata": {},
     "output_type": "display_data"
    }
   ],
   "source": [
    "plt.figure(figsize=(8, 6))\n",
    "plt.scatter(y_valid, pred, alpha=0.5)\n",
    "plt.xlabel(\"Observed Values\")\n",
    "plt.ylabel(\"Predicted Values\")\n",
    "plt.title(\"Predicted vs. Observed Values\")\n",
    "plt.grid(True)\n",
    "\n",
    "# Add a diagonal line for reference (perfect predictions)\n",
    "x = np.linspace(min(y_valid), max(y_valid), 100)\n",
    "plt.plot(x, x, color='red', linestyle='--')"
   ]
  },
  {
   "cell_type": "markdown",
   "id": "5dd43ab1-1b19-4a9a-b9ed-ad107588ba9e",
   "metadata": {},
   "source": [
    "***Observation*** :As most variable increase with time. So, it is expected that they will have high correlation. So, instead of depending upon the linear model, we can directly study the impact of variables on the home price index using the scatter plots."
   ]
  },
  {
   "cell_type": "markdown",
   "id": "08003fdb-ddc0-404a-82c4-c0f9c4588f73",
   "metadata": {},
   "source": [
    "*** A few variables that could have been studied are below. ***\n",
    "\n",
    "- Construction Prices\n",
    "- CPI \n",
    "- Number of new houses supplied\n",
    "- Working Population\n",
    "- Urban Population\n",
    "- Percentage of population above 65\n",
    "- Number of Households\n",
    "- Marriage Rate \n",
    "- Land availability \n",
    "- Number of active listings"
   ]
  },
  {
   "cell_type": "markdown",
   "id": "09c244e9-b864-4db2-aff0-c1d1165a5d86",
   "metadata": {},
   "source": [
    "### THANKU ###"
   ]
  },
  {
   "cell_type": "code",
   "execution_count": null,
   "id": "033dfd68-ef52-4fc5-b726-1e8f3c4baefa",
   "metadata": {},
   "outputs": [],
   "source": []
  }
 ],
 "metadata": {
  "kernelspec": {
   "display_name": "Python 3 (ipykernel)",
   "language": "python",
   "name": "python3"
  },
  "language_info": {
   "codemirror_mode": {
    "name": "ipython",
    "version": 3
   },
   "file_extension": ".py",
   "mimetype": "text/x-python",
   "name": "python",
   "nbconvert_exporter": "python",
   "pygments_lexer": "ipython3",
   "version": "3.12.0"
  }
 },
 "nbformat": 4,
 "nbformat_minor": 5
}
